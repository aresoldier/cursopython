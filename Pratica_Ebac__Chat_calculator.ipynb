{
  "cells": [
    {
      "cell_type": "code",
      "execution_count": null,
      "metadata": {
        "id": "CFMFkLxsr0U3"
      },
      "outputs": [],
      "source": [
        "# saudações iniciais basicas para inicio do algoritimo\n",
        "print (\"Olá, seja bem vindo, comece a calcular\")\n",
        "nota1 = float(input(\"Escreva o valor da nota do aluno(a): \")) # conversão para numero decimal/float caso inserido algum numero inteiro/int\n",
        "nota2 = float(input(\"Escreva o valor da nota do aluno(a): \"))\n",
        "while True: # Adciona a condição de loop enquanto a condição for verdadeira\n",
        "    print (\"Escolha a operação matematica: \")\n",
        "    print (\"1 - Soma\")\n",
        "    print (\"2 - Subtração\")\n",
        "    print (\"3 - Multiplicação\")\n",
        "    print (\"4 - Divisão\")\n",
        "    operacao = input(\"Digite o numero que corresponde a operação necessaria: \") #Atribui o numero digitado pelo usuario a opereção que se deseja executar\n",
        "    if operacao == \"1\":\n",
        "       resuldo = nota1 + nota2\n",
        "       print (resultado)\n",
        "    elif operacao == \"2\":\n",
        "        resultado = nota1 - nota2\n",
        "        print (resultado)\n",
        "    elif operacao ==  \"3\":\n",
        "        resultado = nota1 * nota2\n",
        "        print (resultado)\n",
        "    elif operacao == \"4\":\n",
        "        resultado = nota1 / nota2\n",
        "        print (resultado)\n",
        "    else:   # caso seja digitado um numero ou string que não lhe foi atribuido operações\n",
        "        print (\"Operação não reconhecida\")\n",
        "        continuar = input(\"Deseja continuar com mais operações? {Sim} ou {Não} \") # caso o usuario deseje fazer novas operações ou encerrar o \"chat calculator\"\n",
        "        if continuar == \"sim\" or continuar == \"Sim\":\n",
        "           continue\n",
        "        elif continuar == \"não\" or continuar == \"Não\":\n",
        "           break\n",
        "       else:\n",
        "           print (\"Resposta não reconhecida\") # para encerrar o chat se inserida qualquer outra resposta que não lhe foi atribuida funções\n",
        "           break"
      ]
    },
    {
      "cell_type": "code",
      "source": [],
      "metadata": {
        "id": "pewlXg_x1YR6"
      },
      "execution_count": null,
      "outputs": []
    },
    {
      "cell_type": "markdown",
      "source": [],
      "metadata": {
        "id": "FnXWYezb1Y5V"
      }
    },
    {
      "cell_type": "markdown",
      "metadata": {
        "id": "wkcRuMieXAgX"
      },
      "source": []
    }
  ],
  "metadata": {
    "colab": {
      "provenance": []
    },
    "kernelspec": {
      "display_name": "Python 3",
      "name": "python3"
    },
    "language_info": {
      "name": "python"
    }
  },
  "nbformat": 4,
  "nbformat_minor": 0
}